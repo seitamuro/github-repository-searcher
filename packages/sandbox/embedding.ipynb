{
 "cells": [
  {
   "cell_type": "markdown",
   "metadata": {},
   "source": [
    "# 英語と日本語の埋め込みベクトルの類似度を比較"
   ]
  },
  {
   "cell_type": "code",
   "execution_count": 27,
   "metadata": {},
   "outputs": [],
   "source": [
    "import boto3\n",
    "import json\n",
    "import numpy as np\n",
    "\n",
    "model_ids = [\n",
    "    \"amazon.titan-embed-text-v2:0\",\n",
    "    \"amazon.titan-embed-image-v1\",\n",
    "    \"amazon.titan-embed-text-v1\",\n",
    "    \"cohere.embed-english-v3\",\n",
    "    \"cohere.embed-multilingual-v3\"\n",
    "]\n",
    "\n",
    "def text_to_vector(text: str, model_id: str):\n",
    "    # Bedrock Runtimeクライアントの作成\n",
    "    runtime = boto3.client(\"bedrock-runtime\", region_name=\"us-east-1\")\n",
    "    \n",
    "    # リクエストボディの準備\n",
    "    \n",
    "    # モデルの呼び出し\n",
    "    if \"cohere\" in model_id:\n",
    "        response = runtime.invoke_model(\n",
    "            contentType=\"application/json\",\n",
    "            accept=\"application/json\",\n",
    "            modelId=model_id,\n",
    "            body=json.dumps({\n",
    "                \"texts\": [text],\n",
    "                \"input_type\": \"search_document\"\n",
    "            }).encode(\"utf-8\")\n",
    "        )\n",
    "        # 埋め込みベクトルの抽出\n",
    "        embedding = json.loads(response[\"body\"].read())[\"embeddings\"][0]\n",
    "    else:\n",
    "        response = runtime.invoke_model(\n",
    "            contentType=\"application/json\",\n",
    "            accept=\"application/json\",\n",
    "            modelId=model_id,\n",
    "            body=json.dumps({\"inputText\": text}).encode(\"utf-8\")\n",
    "        )\n",
    "        # 埋め込みベクトルの抽出\n",
    "        embedding = json.loads(response[\"body\"].read())[\"embedding\"]\n",
    "    \n",
    "    return embedding\n",
    "\n",
    "words = [\"りんご\", \"林檎\", \"apple\", \"🍎\", \"みかん\", \"軟骨\", \"なんこつ\"]\n",
    "embeddings = {}\n",
    "for model_id in model_ids:\n",
    "    for word in words:\n",
    "        embeddings[f\"{model_id}-{word}\"] = text_to_vector(word, model_id)"
   ]
  },
  {
   "cell_type": "code",
   "execution_count": 31,
   "metadata": {},
   "outputs": [
    {
     "name": "stdout",
     "output_type": "stream",
     "text": [
      "vs りんご\n",
      "amazon.titan-embed-text-v2:0\n",
      "りんご 1.000\n",
      "林檎 0.068\n",
      "apple 0.078\n",
      "🍎 0.038\n",
      "みかん 0.258\n",
      "軟骨 0.025\n",
      "なんこつ 0.153\n",
      "\n",
      "amazon.titan-embed-image-v1\n",
      "りんご 1.000\n",
      "林檎 0.847\n",
      "apple 0.726\n",
      "🍎 0.811\n",
      "みかん 0.942\n",
      "軟骨 0.777\n",
      "なんこつ 0.934\n",
      "\n",
      "amazon.titan-embed-text-v1\n",
      "りんご 1.000\n",
      "林檎 0.457\n",
      "apple 0.185\n",
      "🍎 0.323\n",
      "みかん 0.733\n",
      "軟骨 0.498\n",
      "なんこつ 0.709\n",
      "\n",
      "cohere.embed-english-v3\n",
      "りんご 1.000\n",
      "林檎 0.643\n",
      "apple 0.443\n",
      "🍎 0.561\n",
      "みかん 0.795\n",
      "軟骨 0.561\n",
      "なんこつ 0.810\n",
      "\n",
      "cohere.embed-multilingual-v3\n",
      "りんご 1.000\n",
      "林檎 0.843\n",
      "apple 0.705\n",
      "🍎 0.742\n",
      "みかん 0.872\n",
      "軟骨 0.765\n",
      "なんこつ 0.830\n",
      "\n"
     ]
    }
   ],
   "source": [
    "# ベクトル間のコサイン類似度を計算\n",
    "from scipy.spatial.distance import cosine\n",
    "def cosine_similarity(v1, v2):\n",
    "    return 1 - cosine(v1, v2)\n",
    "print(\"vs りんご\")\n",
    "for model_id in model_ids:\n",
    "    print(model_id)\n",
    "    for word in words:\n",
    "        print(f\"{word} {cosine_similarity(embeddings[f\"{model_id}-{word}\"], embeddings[f\"{model_id}-りんご\"]):.3f}\")\n",
    "        #print(f\"{word} {np.dot(embeddings[f\"{model_id}-{word}\"], embeddings[f\"{model_id}-りんご\"]):.3f}\")\n",
    "    print(\"\")"
   ]
  },
  {
   "cell_type": "markdown",
   "metadata": {},
   "source": [
    "個人的には「りんご」に対して「林檎」「apple」「🍎」に強い類似度が出てほしかったが、「なんこつ」「みかん」の方に強い類似度が出てしまった。"
   ]
  },
  {
   "cell_type": "markdown",
   "metadata": {},
   "source": []
  }
 ],
 "metadata": {
  "kernelspec": {
   "display_name": ".venv",
   "language": "python",
   "name": "python3"
  },
  "language_info": {
   "codemirror_mode": {
    "name": "ipython",
    "version": 3
   },
   "file_extension": ".py",
   "mimetype": "text/x-python",
   "name": "python",
   "nbconvert_exporter": "python",
   "pygments_lexer": "ipython3",
   "version": "3.13.0"
  }
 },
 "nbformat": 4,
 "nbformat_minor": 2
}
